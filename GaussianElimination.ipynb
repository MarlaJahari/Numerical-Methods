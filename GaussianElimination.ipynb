{
 "cells": [
  {
   "cell_type": "code",
   "execution_count": null,
   "id": "842f05e9",
   "metadata": {},
   "outputs": [],
   "source": [
    "for i in range(3):\n",
    "    b=int(input('Enter the constant of eq. {}'.format(i+1)))\n",
    "    B.append(b)\n",
    "print(B)\n",
    "\n",
    "#1st transformation\n",
    "\n",
    "n=A[0][0]\n",
    "for i in range (3):\n",
    "    A[0][i]=A[0][i]/n\n",
    "B[0]=B[0]/n\n",
    "\n",
    "n1=A[1][0]/A[0][0]\n",
    "n2=A[2][0]/A[0][0]\n",
    "for i in range(3):\n",
    "    A[1][i]=A[1][i]-n1*A[0][i]\n",
    "    A[2][i]=A[2][i]-n2*A[0][i]\n",
    "B[1]=B[1]-n1*B[0]\n",
    "B[2]=B[2]-n2*B[0]\n",
    "print('A=',A,'\\nB=',B)\n",
    "    \n",
    "#2nd transformation\n",
    "\n",
    "n2=A[1][1]\n",
    "n3=A[2][1]/A[1][1]\n",
    "for i in range(3):\n",
    "    A[2][i]=A[2][i]-n3*A[1][i]\n",
    "    A[1][i]=A[1][i]/n2\n",
    "\n",
    "B[2]=B[2]-n3*B[1]\n",
    "B[1]=B[1]/n2\n",
    "print('A=',A,'\\nB=',B)\n",
    "z=B[2]/A[2][2]\n",
    "y=(B[1]-A[1][2]*z)\n",
    "x=B[0]-A[0][1]*y-A[0][2]*z\n",
    "print('x= ',x,'\\ny= ',y,'\\nz= ',z)"
   ]
  }
 ],
 "metadata": {
  "kernelspec": {
   "display_name": "Python 3 (ipykernel)",
   "language": "python",
   "name": "python3"
  },
  "language_info": {
   "codemirror_mode": {
    "name": "ipython",
    "version": 3
   },
   "file_extension": ".py",
   "mimetype": "text/x-python",
   "name": "python",
   "nbconvert_exporter": "python",
   "pygments_lexer": "ipython3",
   "version": "3.9.15"
  }
 },
 "nbformat": 4,
 "nbformat_minor": 5
}
