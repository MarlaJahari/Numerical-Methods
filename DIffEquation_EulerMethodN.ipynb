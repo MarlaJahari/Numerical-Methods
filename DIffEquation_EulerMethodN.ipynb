{
 "cells": [
  {
   "cell_type": "code",
   "execution_count": null,
   "id": "cd2c9ea5",
   "metadata": {},
   "outputs": [],
   "source": [
    "import math \n",
    "import matplotlib.pyplot as plt \n",
    "\n",
    "A=1\n",
    "B=1\n",
    "K=0.05\n",
    "\n",
    "def dy(t,y):\n",
    "    dy=A+B*math.cos(math.pi*t/12)-K*y \n",
    "    return dy\n",
    "\n",
    "t1=0\n",
    "t2=250\n",
    "m=input('No: of iterations:')\n",
    "n=int(m,base=10)\n",
    "h=(t2-t1)/n\n",
    "\n",
    "#Implementing the Euler method\n",
    "t=t1\n",
    "y=0\n",
    "Y=[]\n",
    "T=[]\n",
    "Y.append(y)\n",
    "T.append(t)\n",
    "plt.plot(t,y,'.')\n",
    "for i in range(n):\n",
    "    y=y+h*dy(t,y)\n",
    "    t=t+h\n",
    "    Y.append(y)\n",
    "    T.append(t)\n",
    "    plt.plot(t,y,'.')\n",
    "\n",
    "print(y,t)\n",
    "plt.plot(T,Y)\n",
    "plt.axis((1,30,1,20))"
   ]
  }
 ],
 "metadata": {
  "kernelspec": {
   "display_name": "Python 3 (ipykernel)",
   "language": "python",
   "name": "python3"
  },
  "language_info": {
   "codemirror_mode": {
    "name": "ipython",
    "version": 3
   },
   "file_extension": ".py",
   "mimetype": "text/x-python",
   "name": "python",
   "nbconvert_exporter": "python",
   "pygments_lexer": "ipython3",
   "version": "3.9.15"
  }
 },
 "nbformat": 4,
 "nbformat_minor": 5
}
