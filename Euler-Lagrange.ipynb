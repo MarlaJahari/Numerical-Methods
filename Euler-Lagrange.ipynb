{
 "cells": [
  {
   "cell_type": "markdown",
   "metadata": {},
   "source": [
    "Shahnaz Abdul Hameed\n"
   ]
  },
  {
   "cell_type": "markdown",
   "metadata": {},
   "source": [
    "19/17018"
   ]
  },
  {
   "cell_type": "markdown",
   "metadata": {},
   "source": [
    "Lagrangian Problem"
   ]
  },
  {
   "cell_type": "code",
   "execution_count": 2,
   "metadata": {},
   "outputs": [],
   "source": [
    "#importing necessary packages\n",
    "import sympy as sym\n",
    "from sympy.physics.vector import init_vprinting\n",
    "init_vprinting(pretty_print=True)        \n",
    "from scipy.integrate import odeint                    #Solving ode with initial conditions\n",
    "import numpy as np                                   \n",
    "import matplotlib.pyplot as plt                       #Plot\n",
    "get_ipython().run_line_magic('matplotlib', 'inline')\n",
    "from ipywidgets import interactive                    #Sliders"
   ]
  },
  {
   "cell_type": "code",
   "execution_count": 3,
   "metadata": {},
   "outputs": [],
   "source": [
    "m,g=sym.symbols(\"m,g\",positive=True)\n",
    "t=sym.symbols('t')\n",
    "x=sym.Function('x')(t)\n",
    "y=sym.Function('y')(t)"
   ]
  },
  {
   "cell_type": "code",
   "execution_count": 4,
   "metadata": {},
   "outputs": [],
   "source": [
    "K=0.5*m*(x.diff(t)**2+y.diff(t)**2)                   #Kinetic energy\n",
    "U=m*g*y                                               #Potential energy"
   ]
  },
  {
   "cell_type": "code",
   "execution_count": 5,
   "metadata": {},
   "outputs": [],
   "source": [
    "L=K-U                                                 #Lagrangian"
   ]
  },
  {
   "cell_type": "code",
   "execution_count": 6,
   "metadata": {},
   "outputs": [
    {
     "data": {
      "image/png": "[encoded data removed]",
      "text/latex": [
       "$\\displaystyle - g m y + 0.5 m \\left(\\dot{x}^{2} + \\dot{y}^{2}\\right)$"
      ],
      "text/plain": [
       "               ⎛ 2    2⎞\n",
       "-g⋅m⋅y + 0.5⋅m⋅⎝ẋ  + ẏ ⎠"
      ]
     },
     "execution_count": 6,
     "metadata": {},
     "output_type": "execute_result"
    }
   ],
   "source": [
    "L\n",
    "#print(L)"
   ]
  },
  {
   "cell_type": "code",
   "execution_count": 7,
   "metadata": {},
   "outputs": [],
   "source": [
    "ELx=L.diff(x)-(L.diff(x.diff(t)).diff(t))            #Euler lagrange Equation wrt x\n",
    "ELy=L.diff(y)-(L.diff(y.diff(t)).diff(t))            #Euler lagrange Equation wrt y"
   ]
  },
  {
   "cell_type": "code",
   "execution_count": 8,
   "metadata": {},
   "outputs": [
    {
     "name": "stdout",
     "output_type": "stream",
     "text": [
      "d2x/dt2 =\n"
     ]
    },
    {
     "data": {
      "image/png": "[encoded data removed]",
      "text/latex": [
       "$\\displaystyle 0.0$"
      ],
      "text/plain": [
       "0.0"
      ]
     },
     "execution_count": 8,
     "metadata": {},
     "output_type": "execute_result"
    }
   ],
   "source": [
    "d2x=sym.solve(ELx,x.diff(t).diff(t))[0]\n",
    "dx=x.diff(t)\n",
    "print('d2x/dt2 =') \n",
    "d2x"
   ]
  },
  {
   "cell_type": "code",
   "execution_count": 9,
   "metadata": {},
   "outputs": [
    {
     "name": "stdout",
     "output_type": "stream",
     "text": [
      "d2y/dt2 =\n"
     ]
    },
    {
     "data": {
      "image/png": "[encoded data removed]",
      "text/latex": [
       "$\\displaystyle - g$"
      ],
      "text/plain": [
       "-g"
      ]
     },
     "execution_count": 9,
     "metadata": {},
     "output_type": "execute_result"
    }
   ],
   "source": [
    "d2y=sym.solve(ELy,y.diff(t).diff(t))[0]\n",
    "dy=y.diff(t)\n",
    "print('d2y/dt2 =') \n",
    "d2y"
   ]
  },
  {
   "cell_type": "code",
   "execution_count": 12,
   "metadata": {},
   "outputs": [],
   "source": [
    "#making functions for ivp\n",
    "def dYdt(Y,t):\n",
    "    return [dy.subs(dy,Y[1]).evalf(), d2y.subs(g,9.81).evalf()]\n",
    "def dXdt(X,t):\n",
    "    return [dx.subs(dx,X[1]).evalf(), d2x.evalf()]               "
   ]
  },
  {
   "cell_type": "code",
   "execution_count": 13,
   "metadata": {},
   "outputs": [],
   "source": [
    "def sol(xo,yo,ux,uy):\n",
    "    \n",
    "    t = np.linspace(0,2*uy/9.81,100)              #t=2uy/g\n",
    "    xsol = odeint(dXdt, [xo, ux], t)\n",
    "    ysol = odeint(dYdt, [yo, uy], t)\n",
    "    print('range of projectile: ',xsol[99,0])\n",
    "    print('max height attained by projectile: ',ysol[49,0])\n",
    "    plt.figure(figsize=(10,8))\n",
    "    plt.xlim(0,xsol[99,0])\n",
    "    plt.ylim(0,ysol[49,0]+10)\n",
    "    plt.plot(xsol[:,0],ysol[:,0],'--')\n",
    "    plt.grid()\n",
    "    plt.show()\n"
   ]
  },
  {
   "cell_type": "code",
   "execution_count": 14,
   "metadata": {},
   "outputs": [
    {
     "name": "stdout",
     "output_type": "stream",
     "text": [
      "range of projectile:  127.420998980632\n",
      "max height attained by projectile:  31.851999540977335\n"
     ]
    },
    {
     "data": {
      "image/png": "[encoded data removed]",
      "text/plain": [
       "<Figure size 720x576 with 1 Axes>"
      ]
     },
     "metadata": {
      "needs_background": "light"
     },
     "output_type": "display_data"
    }
   ],
   "source": [
    "sol(0,0,25,25)"
   ]
  },
  {
   "cell_type": "code",
   "execution_count": 15,
   "metadata": {},
   "outputs": [],
   "source": [
    "out=interactive(sol,xo=(-5,5,1),yo=(-5,5,1),ux=(0,50,1),uy=(0,50,1))"
   ]
  },
  {
   "cell_type": "code",
   "execution_count": 16,
   "metadata": {},
   "outputs": [
    {
     "data": {
      "application/vnd.jupyter.widget-view+json": {
       "model_id": "19605924709f40aa8aa1139c174d75c3",
       "version_major": 2,
       "version_minor": 0
      },
      "text/plain": [
       "interactive(children=(IntSlider(value=0, description='xo', max=5, min=-5), IntSlider(value=0, description='yo'…"
      ]
     },
     "metadata": {},
     "output_type": "display_data"
    }
   ],
   "source": [
    "out"
   ]
  },
  {
   "cell_type": "code",
   "execution_count": null,
   "metadata": {},
   "outputs": [],
   "source": []
  }
 ],
 "metadata": {
  "kernelspec": {
   "display_name": "Python 3 (ipykernel)",
   "language": "python",
   "name": "python3"
  },
  "language_info": {
   "codemirror_mode": {
    "name": "ipython",
    "version": 3
   },
   "file_extension": ".py",
   "mimetype": "text/x-python",
   "name": "python",
   "nbconvert_exporter": "python",
   "pygments_lexer": "ipython3",
   "version": "3.9.15"
  }
 },
 "nbformat": 4,
 "nbformat_minor": 4
}
